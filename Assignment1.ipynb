{
 "cells": [
  {
   "cell_type": "markdown",
   "metadata": {
    "colab_type": "text",
    "id": "view-in-github"
   },
   "source": [
    "<a href=\"https://colab.research.google.com/github/prashant90066/18CSE049/blob/main/ass_1_.ipynb\" target=\"_parent\"><img src=\"https://colab.research.google.com/assets/colab-badge.svg\" alt=\"Open In Colab\"/></a>"
   ]
  },
  {
   "cell_type": "code",
   "execution_count": 1,
   "metadata": {
    "id": "RTYJ7PzFp1s8"
   },
   "outputs": [],
   "source": [
    "import numpy\n",
    "from scipy import stats"
   ]
  },
  {
   "cell_type": "code",
   "execution_count": 2,
   "metadata": {
    "id": "W-XCQYYOp7nj"
   },
   "outputs": [],
   "source": [
    "weight=[56,60,62,65,70]"
   ]
  },
  {
   "cell_type": "code",
   "execution_count": 3,
   "metadata": {
    "id": "SXOHF6qhp-SF"
   },
   "outputs": [],
   "source": [
    "x=numpy.mean(weight)\n",
    "y=numpy.median(weight)\n",
    "z=stats.mode(weight)\n",
    "s=numpy.std(weight)\n",
    "v=numpy.var(weight)\n"
   ]
  },
  {
   "cell_type": "code",
   "execution_count": 4,
   "metadata": {
    "colab": {
     "base_uri": "https://localhost:8080/"
    },
    "id": "M7UwQel-qBl6",
    "outputId": "a2364cd8-49ae-4d2d-90bf-d0aaee4b919e"
   },
   "outputs": [
    {
     "name": "stdout",
     "output_type": "stream",
     "text": [
      "mean is : 62.6\n",
      "median is : 62.0\n",
      "mode is : ModeResult(mode=array([56]), count=array([1]))\n",
      "standard deviation is : 4.715930449020639\n",
      "varience is : 22.24\n"
     ]
    }
   ],
   "source": [
    "print(\"mean is :\",x)\n",
    "print(\"median is :\",y)\n",
    "print(\"mode is :\",z)\n",
    "print(\"standard deviation is :\",s)\n",
    "print(\"varience is :\",v)"
   ]
  },
  {
   "cell_type": "code",
   "execution_count": null,
   "metadata": {
    "id": "KgONTJ9ZqFI5"
   },
   "outputs": [],
   "source": []
  }
 ],
 "metadata": {
  "colab": {
   "authorship_tag": "ABX9TyMxFbZ9wDF9t9eLf1auuFCt",
   "include_colab_link": true,
   "name": "ass-1 .ipynb",
   "provenance": []
  },
  "kernelspec": {
   "display_name": "Python 3",
   "language": "python",
   "name": "python3"
  },
  "language_info": {
   "codemirror_mode": {
    "name": "ipython",
    "version": 3
   },
   "file_extension": ".py",
   "mimetype": "text/x-python",
   "name": "python",
   "nbconvert_exporter": "python",
   "pygments_lexer": "ipython3",
   "version": "3.7.4"
  }
 },
 "nbformat": 4,
 "nbformat_minor": 1
}
